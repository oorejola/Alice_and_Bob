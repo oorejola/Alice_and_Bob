{
 "cells": [
  {
   "cell_type": "markdown",
   "id": "d1711452",
   "metadata": {},
   "source": [
    "## Single GPT Chat\n",
    "\n",
    "Here we implement a simple ChatGPT clone."
   ]
  },
  {
   "cell_type": "code",
   "execution_count": null,
   "id": "4f7b68d8",
   "metadata": {},
   "outputs": [],
   "source": [
    "from langchain_openai import ChatOpenAI\n",
    "\n",
    "# Add your API key\n",
    "OpenAI_api_key = \"...\"\n",
    "\n",
    "#chat = ChatOpenAI(model=\"gpt-4-turbo\",api_key=OpenAI_api_key)\n",
    "chat = ChatOpenAI(model=\"gpt-3.5-turbo-1106\",api_key=OpenAI_api_key)"
   ]
  },
  {
   "cell_type": "code",
   "execution_count": null,
   "id": "a6c047e3",
   "metadata": {},
   "outputs": [],
   "source": [
    "from langchain_core.messages import AIMessage, HumanMessage\n",
    "from langchain_core.prompts import ChatPromptTemplate, MessagesPlaceholder\n",
    "\n",
    "prompt = ChatPromptTemplate.from_messages(\n",
    "    [\n",
    "        (\n",
    "            \"system\",\n",
    "            \"You are an AI.\",\n",
    "        ),\n",
    "        MessagesPlaceholder(variable_name=\"messages\"),\n",
    "    ]\n",
    ")\n",
    "\n",
    "chain = prompt | chat"
   ]
  },
  {
   "cell_type": "code",
   "execution_count": null,
   "id": "bc85e31e",
   "metadata": {},
   "outputs": [],
   "source": [
    "from langchain.memory import ChatMessageHistory\n",
    "\n",
    "chat_history = ChatMessageHistory()\n",
    "\n",
    "# Use QUIT to escape the chat.\n",
    "\n",
    "user_input = input()\n",
    "chat_history.add_user_message(user_input)\n",
    "while user_input != 'QUIT':\n",
    "    response = chain.invoke({\"messages\": chat_history.messages})\n",
    "    AI_output = response.content\n",
    "    print(\"AI: \"+AI_output + \"\\n\")\n",
    "    chat_history.add_ai_message(AI_output)\n",
    "    user_input = input()\n",
    "    chat_history.add_user_message(user_input)\n",
    "    "
   ]
  },
  {
   "cell_type": "code",
   "execution_count": null,
   "id": "78b4b88c",
   "metadata": {},
   "outputs": [],
   "source": [
    "# View chat history\n",
    "chat_history.messages"
   ]
  },
  {
   "cell_type": "markdown",
   "id": "80ab7624",
   "metadata": {},
   "source": [
    "#  Alice and Bob\n",
    "## Two GPTs talking\n",
    "\n",
    "Here we have two GPT models chat. \n",
    "Alice begins the conversation"
   ]
  },
  {
   "cell_type": "code",
   "execution_count": null,
   "id": "06751f09",
   "metadata": {},
   "outputs": [],
   "source": [
    "from langchain_openai import ChatOpenAI\n",
    "\n",
    "#initialize the brains of the AIs\n",
    "\n",
    "chat_Alice = ChatOpenAI(model=\"gpt-3.5-turbo-0125\",api_key=OpenAI_api_key)\n",
    "chat_Bob = ChatOpenAI(model=\"gpt-3.5-turbo-0125\",api_key=OpenAI_api_key)"
   ]
  },
  {
   "cell_type": "code",
   "execution_count": null,
   "id": "797864a2",
   "metadata": {},
   "outputs": [],
   "source": [
    "from langchain_core.messages import AIMessage, HumanMessage\n",
    "from langchain_core.prompts import ChatPromptTemplate, MessagesPlaceholder\n",
    "\n",
    "\n",
    "# System prompts for the two models\n",
    "\n",
    "Alice_system_prompt = \"You are an AI named Alice. You prefere Cats over Dogs. Use short responses.\"\n",
    "Bob_system_prompt = \"You are an AI named Bob. You prefer Dogs over Cats.  Use short responses.\"\n",
    "\n",
    "\n",
    "prompt_Alice = ChatPromptTemplate.from_messages(\n",
    "    [\n",
    "        (\n",
    "            \"system\",\n",
    "            Alice_system_prompt,\n",
    "        ),\n",
    "        MessagesPlaceholder(variable_name=\"messages\"),\n",
    "    ]\n",
    ")\n",
    "\n",
    "prompt_Bob = ChatPromptTemplate.from_messages(\n",
    "    [\n",
    "        (\n",
    "            \"system\",\n",
    "            Bob_system_prompt,\n",
    "        ),\n",
    "        MessagesPlaceholder(variable_name=\"messages\"),\n",
    "    ]\n",
    ")\n",
    "\n",
    "chain_Alice = prompt_Alice | chat_Alice\n",
    "chain_Bob = prompt_Bob | chat_Bob"
   ]
  },
  {
   "cell_type": "code",
   "execution_count": null,
   "id": "61f9df65",
   "metadata": {
    "scrolled": true
   },
   "outputs": [],
   "source": [
    "from langchain.memory import ChatMessageHistory\n",
    "\n",
    "# Specify maximum conversation length \n",
    "conversation_length = 5\n",
    "\n",
    "Alice_chat_history = ChatMessageHistory()\n",
    "Bob_chat_history = ChatMessageHistory()\n",
    "\n",
    "# Alice Starts the conversation. Change the intial response to what ever you want.\n",
    "\n",
    "Alice_response_init = \"Hello, Bob. My name is Alice. Do you think Dogs are better than Cats?\"\n",
    "Alice_chat_history.add_ai_message(Alice_response_init)\n",
    "Bob_chat_history.add_user_message(Alice_response_init)\n",
    "\n",
    "print(\"Alice: \" + Alice_response_init+ \"\\n\")\n",
    "Bob_output = chain_Bob.invoke({\"messages\": Bob_chat_history.messages})\n",
    "Bob_response = Bob_output.content\n",
    "Alice_chat_history.add_user_message(Bob_response)\n",
    "Bob_chat_history.add_ai_message(Bob_response)\n",
    "\n",
    "print(\"Bob: \" + Bob_response + \"\\n\")\n",
    "\n",
    "for _ in range(5):\n",
    "    Alice_output = chain_Alice.invoke({\"messages\": Alice_chat_history.messages})\n",
    "    Alice_response = Alice_output.content\n",
    "    \n",
    "    Alice_chat_history.add_ai_message(Alice_response)\n",
    "    Bob_chat_history.add_user_message(Alice_response)\n",
    "    \n",
    "    print(\"Alice: \" + Alice_response+ \"\\n\")\n",
    "    Bob_output = chain_Bob.invoke({\"messages\": Bob_chat_history.messages})\n",
    "    Bob_response = Bob_output.content\n",
    "    Alice_chat_history.add_user_message(Bob_response)\n",
    "    Bob_chat_history.add_ai_message(Bob_response)\n",
    "    print(\"Bob: \" + Bob_response + \"\\n\")\n",
    "    \n",
    "    "
   ]
  }
 ],
 "metadata": {
  "kernelspec": {
   "display_name": "Python 3 (ipykernel)",
   "language": "python",
   "name": "python3"
  },
  "language_info": {
   "codemirror_mode": {
    "name": "ipython",
    "version": 3
   },
   "file_extension": ".py",
   "mimetype": "text/x-python",
   "name": "python",
   "nbconvert_exporter": "python",
   "pygments_lexer": "ipython3",
   "version": "3.9.7"
  }
 },
 "nbformat": 4,
 "nbformat_minor": 5
}
